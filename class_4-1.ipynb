{
 "cells": [
  {
   "cell_type": "code",
   "execution_count": 2,
   "metadata": {
    "collapsed": true
   },
   "outputs": [],
   "source": [
    "import pandas as pd\n",
    "import numpy as np"
   ]
  },
  {
   "cell_type": "code",
   "execution_count": 3,
   "metadata": {
    "collapsed": true
   },
   "outputs": [],
   "source": [
    "import matplotlib.pyplot as plt # o tambien mpl\n",
    "%matplotlib inline "
   ]
  },
  {
   "cell_type": "markdown",
   "metadata": {},
   "source": [
    "Jupyter magic - comandos especiales para Jupyter notebooks  \n",
    "http://ipython.readthedocs.io/en/stable/interactive/magics.html"
   ]
  },
  {
   "cell_type": "markdown",
   "metadata": {},
   "source": [
    "# Visualizaciones"
   ]
  },
  {
   "cell_type": "markdown",
   "metadata": {},
   "source": [
    "Existen numerosas librerias que son para visualizaciones en `python`. La mas \"standard\" y que tiene soporte dentro de `jupyter` es `matplotlib`"
   ]
  },
  {
   "cell_type": "markdown",
   "metadata": {},
   "source": [
    "Alternativas como `plotly` y `seaborn` existen y son recomendadas para los que quieran graficos mas lindos en el futuro"
   ]
  },
  {
   "cell_type": "markdown",
   "metadata": {},
   "source": [
    "# Matplotlib"
   ]
  },
  {
   "cell_type": "markdown",
   "metadata": {},
   "source": [
    "## Graficos de tortas (pie charts)"
   ]
  },
  {
   "cell_type": "code",
   "execution_count": 18,
   "metadata": {},
   "outputs": [
    {
     "data": {
      "image/png": "[encoded data removed]",
      "text/plain": [
       "<matplotlib.figure.Figure at 0x7fb504e77588>"
      ]
     },
     "metadata": {},
     "output_type": "display_data"
    }
   ],
   "source": [
    "    # datos\n",
    "etiquetas = ['Sapo', 'Chancho', 'Perro', 'Gato']\n",
    "tamanos = [15, 30, 45, 10]\n",
    "\n",
    "    # caracteristicas\n",
    "explotar = (0, 0.1, 0, 0)  # explotar solo el segundo pedazo (chanchos)\n",
    "\n",
    "    # desempacando\n",
    "fig1, ax1 = plt.subplots()\n",
    "\n",
    "    # especificaciones\n",
    "ax1.pie(tamanos, \n",
    "        explode=explotar, \n",
    "        labels=etiquetas, \n",
    "        autopct='%1.1f%%', \n",
    "        shadow=True, \n",
    "        startangle=180)\n",
    "\n",
    "ax1.axis('equal')  # al especificar 'equal' nos estamos asegurando de que sea un circulo\n",
    "\n",
    "    # mostrar grafico\n",
    "plt.show()"
   ]
  },
  {
   "cell_type": "markdown",
   "metadata": {},
   "source": [
    "## Grafico de dispersion"
   ]
  },
  {
   "cell_type": "code",
   "execution_count": 28,
   "metadata": {},
   "outputs": [
    {
     "data": {
      "image/png": "[encoded data removed]",
      "text/plain": [
       "<matplotlib.figure.Figure at 0x7fb504b4bbe0>"
      ]
     },
     "metadata": {},
     "output_type": "display_data"
    }
   ],
   "source": [
    "# Fixing random state for reproducibility\n",
    "#np.random.seed(19680801)\n",
    "\n",
    "x = np.random.rand(50) # 50 observaciones aleatorias\n",
    "y = np.random.rand(50)\n",
    "\n",
    "a = np.random.rand(50)\n",
    "b = np.random.rand(50)\n",
    "\n",
    "plt.scatter(x, # eje X\n",
    "            y, # eje Y\n",
    "            alpha=0.9, # transparencia\n",
    "            marker='^') # tipo de marcador\n",
    "\n",
    "plt.scatter(a,\n",
    "            b,\n",
    "            alpha=0.5)\n",
    "\n",
    "plt.show() # mostrar figura"
   ]
  },
  {
   "cell_type": "code",
   "execution_count": 35,
   "metadata": {
    "collapsed": true
   },
   "outputs": [
    {
     "name": "stdout",
     "output_type": "stream",
     "text": [
      "Help on built-in function arange in module numpy.core.multiarray:\n",
      "\n",
      "arange(...)\n",
      "    arange([start,] stop[, step,], dtype=None)\n",
      "    \n",
      "    Return evenly spaced values within a given interval.\n",
      "    \n",
      "    Values are generated within the half-open interval ``[start, stop)``\n",
      "    (in other words, the interval including `start` but excluding `stop`).\n",
      "    For integer arguments the function is equivalent to the Python built-in\n",
      "    `range <http://docs.python.org/lib/built-in-funcs.html>`_ function,\n",
      "    but returns an ndarray rather than a list.\n",
      "    \n",
      "    When using a non-integer step, such as 0.1, the results will often not\n",
      "    be consistent.  It is better to use ``linspace`` for these cases.\n",
      "    \n",
      "    Parameters\n",
      "    ----------\n",
      "    start : number, optional\n",
      "        Start of interval.  The interval includes this value.  The default\n",
      "        start value is 0.\n",
      "    stop : number\n",
      "        End of interval.  The interval does not include this value, except\n",
      "        in some cases where `step` is not an integer and floating point\n",
      "        round-off affects the length of `out`.\n",
      "    step : number, optional\n",
      "        Spacing between values.  For any output `out`, this is the distance\n",
      "        between two adjacent values, ``out[i+1] - out[i]``.  The default\n",
      "        step size is 1.  If `step` is specified, `start` must also be given.\n",
      "    dtype : dtype\n",
      "        The type of the output array.  If `dtype` is not given, infer the data\n",
      "        type from the other input arguments.\n",
      "    \n",
      "    Returns\n",
      "    -------\n",
      "    arange : ndarray\n",
      "        Array of evenly spaced values.\n",
      "    \n",
      "        For floating point arguments, the length of the result is\n",
      "        ``ceil((stop - start)/step)``.  Because of floating point overflow,\n",
      "        this rule may result in the last element of `out` being greater\n",
      "        than `stop`.\n",
      "    \n",
      "    See Also\n",
      "    --------\n",
      "    linspace : Evenly spaced numbers with careful handling of endpoints.\n",
      "    ogrid: Arrays of evenly spaced numbers in N-dimensions.\n",
      "    mgrid: Grid-shaped arrays of evenly spaced numbers in N-dimensions.\n",
      "    \n",
      "    Examples\n",
      "    --------\n",
      "    >>> np.arange(3)\n",
      "    array([0, 1, 2])\n",
      "    >>> np.arange(3.0)\n",
      "    array([ 0.,  1.,  2.])\n",
      "    >>> np.arange(3,7)\n",
      "    array([3, 4, 5, 6])\n",
      "    >>> np.arange(3,7,2)\n",
      "    array([3, 5])\n",
      "\n"
     ]
    }
   ],
   "source": [
    "help(np.arange)"
   ]
  },
  {
   "cell_type": "code",
   "execution_count": 36,
   "metadata": {},
   "outputs": [
    {
     "data": {
      "text/plain": [
       "array([0, 1, 2, 3, 4])"
      ]
     },
     "execution_count": 36,
     "metadata": {},
     "output_type": "execute_result"
    }
   ],
   "source": [
    "np.arange(5) # igual a np.arange(len(men_means))"
   ]
  },
  {
   "cell_type": "markdown",
   "metadata": {},
   "source": [
    "## Barras agrupadas"
   ]
  },
  {
   "cell_type": "code",
   "execution_count": 47,
   "metadata": {},
   "outputs": [
    {
     "data": {
      "image/png": "[encoded data removed]",
      "text/plain": [
       "<matplotlib.figure.Figure at 0x7fb5049e55c0>"
      ]
     },
     "metadata": {},
     "output_type": "display_data"
    }
   ],
   "source": [
    "men_means = (20, 35, 30, 35, 27)\n",
    "men_std = (2, 3, 4, 1, 2)\n",
    "\n",
    "women_means, women_std = (25, 32, 34, 20, 25), (3, 5, 2, 3, 3)\n",
    "\n",
    "ind = np.arange(len(men_means))  # the x locations for the groups\n",
    "width = 0.35  # the width of the bars\n",
    "\n",
    "\n",
    "fig, ax = plt.subplots()\n",
    "\n",
    "rects1 = ax.bar(ind - width/2, men_means, width, yerr=men_std, label='Men')\n",
    "rects2 = ax.bar(ind + width/2, women_means, width, yerr=women_std, label='Women')\n",
    "\n",
    "# Add some text for labels, title and custom x-axis tick labels, etc.\n",
    "ax.set_ylabel('Puntajes')\n",
    "ax.set_xlabel('Nombre del grupo')\n",
    "\n",
    "ax.set_title('Puntajes por sexo y grupo')\n",
    "\n",
    "ax.set_xticks(ind)\n",
    "ax.set_xticklabels(('alpha', 'beta', 'gamma', 'delta', 'epsilon'))\n",
    "\n",
    "ax.legend()\n",
    "\n",
    "plt.show()"
   ]
  },
  {
   "cell_type": "markdown",
   "metadata": {},
   "source": [
    "ax\n",
    "--\n",
    ".set_ylabel()  \n",
    ".set_xlabel()  \n",
    ".set_title()  \n",
    ".set_xticks()  \n",
    ".set_xticklabels()  \n",
    ".legend()"
   ]
  },
  {
   "cell_type": "markdown",
   "metadata": {},
   "source": [
    "## Barras encimadas"
   ]
  },
  {
   "cell_type": "code",
   "execution_count": 51,
   "metadata": {},
   "outputs": [
    {
     "data": {
      "image/png": "[encoded data removed]",
      "text/plain": [
       "<matplotlib.figure.Figure at 0x7fb504b78eb8>"
      ]
     },
     "metadata": {},
     "output_type": "display_data"
    }
   ],
   "source": [
    "N = 5\n",
    "\n",
    "menMeans = (20, 35, 30, 35, 27)\n",
    "womenMeans = (25, 32, 34, 20, 25)\n",
    "menStd = (2, 3, 4, 1, 2)\n",
    "womenStd = (3, 5, 2, 3, 3)\n",
    "\n",
    "ind = np.arange(N)    # the x locations for the groups\n",
    "width = 0.35       # the width of the bars: can also be len(x) sequence\n",
    "\n",
    "p1 = plt.bar(ind, menMeans, width, yerr=menStd)\n",
    "p2 = plt.bar(ind, womenMeans, width, bottom=menMeans, yerr=womenStd)\n",
    "\n",
    "plt.ylabel('Puntajes')\n",
    "\n",
    "plt.title('Puntajes por genero y grupo')\n",
    "\n",
    "plt.xticks(ind, ('G1', 'G2', 'G3', 'G4', 'G5'))\n",
    "\n",
    "plt.yticks(np.arange(0, 81, 20))\n",
    "\n",
    "plt.legend((p1[0], p2[0]), ('Hombres', 'Mujeres'))\n",
    "\n",
    "plt.show()"
   ]
  },
  {
   "cell_type": "markdown",
   "metadata": {},
   "source": [
    "## Barras horizontales"
   ]
  },
  {
   "cell_type": "code",
   "execution_count": 61,
   "metadata": {},
   "outputs": [
    {
     "data": {
      "image/png": "[encoded data removed]",
      "text/plain": [
       "<matplotlib.figure.Figure at 0x7fb504ceff60>"
      ]
     },
     "metadata": {},
     "output_type": "display_data"
    }
   ],
   "source": [
    "# Fixing random state for reproducibility\n",
    "#np.random.seed(19680801)\n",
    "\n",
    "plt.rcdefaults()\n",
    "fig, ax = plt.subplots()\n",
    "\n",
    "# datos\n",
    "personas = ('Tom', 'Dick', 'Harry', 'Slim', 'Jim')\n",
    "\n",
    "y_pos = np.arange(len(people))\n",
    "performance = (20, 22, 24, 20, 25)\n",
    "\n",
    "error = np.random.rand(len(people))\n",
    "\n",
    "ax.barh(y_pos, performance, xerr=error, align='center',\n",
    "        color='green', ecolor='black')\n",
    "\n",
    "ax.set_yticks(y_pos)\n",
    "ax.set_yticklabels(people)\n",
    "ax.invert_yaxis()  # labels read top-to-bottom\n",
    "ax.set_xlabel('Performance')\n",
    "ax.set_title('How fast do you want to go today?')\n",
    "\n",
    "plt.show()"
   ]
  },
  {
   "cell_type": "markdown",
   "metadata": {
    "collapsed": true
   },
   "source": [
    "# Plotly.js & plotly python"
   ]
  },
  {
   "cell_type": "code",
   "execution_count": 4,
   "metadata": {
    "collapsed": true
   },
   "outputs": [],
   "source": [
    "import plotly\n",
    "import plotly.plotly as py\n",
    "import plotly.graph_objs as go\n",
    "import plotly.tools as tls\n",
    "import plotly.figure_factory as ff"
   ]
  },
  {
   "cell_type": "markdown",
   "metadata": {},
   "source": [
    "Plotly es una libreria para graficos original de javascript, sin embargo tiene una API para python tambien"
   ]
  },
  {
   "cell_type": "markdown",
   "metadata": {},
   "source": [
    "## Pie chart"
   ]
  },
  {
   "cell_type": "code",
   "execution_count": 69,
   "metadata": {},
   "outputs": [
    {
     "data": {
      "text/plain": [
       "'file:///home/dog/AnacondaProjects/data_mining_course/temp-plot.html'"
      ]
     },
     "execution_count": 69,
     "metadata": {},
     "output_type": "execute_result"
    }
   ],
   "source": [
    "calcado = go.Pie(labels=[\"Carniceria\", \"Verduleria\", \"Panaderia\"], \n",
    "                 values=[13,8,9])\n",
    "\n",
    "data = [calcado]\n",
    "\n",
    "layout = go.Layout(height = 600,\n",
    "                   width = 1300,\n",
    "                   autosize = False,\n",
    "                   title = \"Marcas\",\n",
    "                   legend=dict(orientation=\"v\", \n",
    "                               font=dict(size=30)\n",
    "                              )\n",
    "                  )\n",
    "\n",
    "fig = go.Figure(data = data, layout = layout)\n",
    "\n",
    "plotly.offline.plot(fig, show_link = False)"
   ]
  },
  {
   "cell_type": "markdown",
   "metadata": {},
   "source": [
    "## Barras agrupadas"
   ]
  },
  {
   "cell_type": "code",
   "execution_count": 2,
   "metadata": {},
   "outputs": [
    {
     "data": {
      "text/plain": [
       "'file:///home/dog/AnacondaProjects/data_mining_course/temp-plot.html'"
      ]
     },
     "execution_count": 2,
     "metadata": {},
     "output_type": "execute_result"
    }
   ],
   "source": [
    "calcado1 = go.Bar(x=[\"Universitario\", \"Graduado\", \"Sin estudio superior\"], y=[4,5,6], name=\"Junio\")\n",
    "calcado2 = go.Bar(x=[\"Universitario\", \"Graduado\", \"Sin estudio superior\"], y=[7,2,5], name=\"Julio\")\n",
    "calcado3 = go.Bar(x=[\"Universitario\", \"Graduado\", \"Sin estudio superior\"], y=[3,6,7], name=\"Agosto\")\n",
    "\n",
    "data = [calcado1, calcado2, calcado3]\n",
    "\n",
    "layout = go.Layout(barmode=\"group\",\n",
    "                   title=\"Ventas por mes\")\n",
    "\n",
    "plotly.offline.plot({\n",
    "    \"data\": data,\n",
    "    \"layout\": layout\n",
    "})"
   ]
  },
  {
   "cell_type": "markdown",
   "metadata": {},
   "source": [
    "## Multiples graficos "
   ]
  },
  {
   "cell_type": "code",
   "execution_count": 5,
   "metadata": {},
   "outputs": [
    {
     "data": {
      "text/plain": [
       "'file:///home/dog/AnacondaProjects/data_mining_course/temp-plot.html'"
      ]
     },
     "execution_count": 5,
     "metadata": {},
     "output_type": "execute_result"
    }
   ],
   "source": [
    "    # etiquetas\n",
    "labels = [\"Restaurant\",\"Estacion de servicio\",\"Discoteca\",\"Bodega\"]\n",
    "\n",
    "    # datos\n",
    "val1 = [2,4,5,6]\n",
    "val2 = [4,5,7,3]\n",
    "val3 = [5,3,2,5]\n",
    "    \n",
    "    # tortas con rangos\n",
    "trace1 = go.Pie(labels=labels, values=val1, domain={\"x\": [0, 0.50], \"y\": [0, 0.5]})\n",
    "trace2 = go.Pie(labels=labels, values=val2, domain={\"x\": [0, 0.50], \"y\": [0.5, 1]})\n",
    "trace3 = go.Pie(labels=labels, values=val3, domain={\"x\": [0.5, 1], \"y\": [0, 1]})\n",
    "\n",
    "    # recolectar todas las tortas\n",
    "data = [trace1, trace2, trace3]\n",
    "\n",
    "    # caracteristircas\n",
    "layout = go.Layout(height = 600,\n",
    "                   width = 1300,\n",
    "                   autosize = False,\n",
    "                   title = \"Sep 2016 vs Sep 2017\")\n",
    "\n",
    "    # mostrar figuras\n",
    "fig = go.Figure(data=data, layout=layout)\n",
    "\n",
    "plotly.offline.plot(fig, show_link = False)"
   ]
  },
  {
   "cell_type": "markdown",
   "metadata": {},
   "source": [
    "## Barras horizontales"
   ]
  },
  {
   "cell_type": "code",
   "execution_count": 83,
   "metadata": {},
   "outputs": [
    {
     "name": "stderr",
     "output_type": "stream",
     "text": [
      "/home/dog/anaconda3/lib/python3.6/site-packages/plotly/offline/offline.py:459: UserWarning:\n",
      "\n",
      "Your filename `marker-h-bar` didn't end with .html. Adding .html to the end of your file.\n",
      "\n"
     ]
    },
    {
     "data": {
      "text/plain": [
       "'file:///home/dog/AnacondaProjects/data_mining_course/marker-h-bar.html'"
      ]
     },
     "execution_count": 83,
     "metadata": {},
     "output_type": "execute_result"
    }
   ],
   "source": [
    "trace1 = go.Bar(\n",
    "    y=['20-25 años', '25-30 años', '30-35 años'],\n",
    "    x=[20, 14, 23],\n",
    "    name='Hombres',\n",
    "    orientation = 'h',\n",
    "    marker = dict(\n",
    "        color = 'rgba(246, 78, 139, 0.6)',\n",
    "        line = dict(\n",
    "            color = 'rgba(246, 78, 139, 1.0)',\n",
    "            width = 3)\n",
    "    )\n",
    ")\n",
    "trace2 = go.Bar(\n",
    "    y=['20-25 años', '25-30 años', '30-35 años'],\n",
    "    x=[12, 18, 29],\n",
    "    name='Mujeres',\n",
    "    orientation = 'h',\n",
    "    marker = dict(\n",
    "        color = 'rgba(58, 71, 80, 0.6)',\n",
    "        line = dict(\n",
    "            color = 'rgba(58, 71, 80, 1.0)',\n",
    "            width = 3)\n",
    "    )\n",
    ")\n",
    "\n",
    "data = [trace1, trace2]\n",
    "layout = go.Layout(\n",
    "    barmode='stack'\n",
    ")\n",
    "\n",
    "fig = go.Figure(data=data, layout=layout)\n",
    "plotly.offline.plot(fig, filename='marker-h-bar', auto_open=False)"
   ]
  },
  {
   "cell_type": "markdown",
   "metadata": {},
   "source": [
    "## Mapa de calor"
   ]
  },
  {
   "cell_type": "code",
   "execution_count": 91,
   "metadata": {},
   "outputs": [
    {
     "name": "stderr",
     "output_type": "stream",
     "text": [
      "/home/dog/anaconda3/lib/python3.6/site-packages/plotly/offline/offline.py:459: UserWarning:\n",
      "\n",
      "Your filename `labelled-heatmap` didn't end with .html. Adding .html to the end of your file.\n",
      "\n"
     ]
    },
    {
     "data": {
      "text/plain": [
       "'file:///home/dog/AnacondaProjects/data_mining_course/labelled-heatmap.html'"
      ]
     },
     "execution_count": 91,
     "metadata": {},
     "output_type": "execute_result"
    }
   ],
   "source": [
    "trace = go.Heatmap(z=[[4, 3, 12, 3, 1, 1, 3, 8, 11, 10, 6, 4, 5], \n",
    "                      [11, 10, 6, 4, 5, 11, 10, 6, 4, 5, 4, 5, 11], \n",
    "                      [3, 1, 3, 8, 11, 10, 3, 1, 3, 8, 11, 10], \n",
    "                      [6, 4, 5, 11, 10, 6, 6, 4, 5, 11, 10, 6, 7], \n",
    "                      [11, 10, 6, 4, 6, 4, 5, 11, 3, 8, 11, 10, 7]], # facturacion por dia del mes\n",
    "                   x=[x for x in range(1, 14)], # dias del mes\n",
    "                   y=[\"Oct\", \"Sep\", \"Aug\", \"Jul\", \"Jun\"], # etiquetas\n",
    "                   colorscale=[[0, 'ffffff'], [1, '253a33']])\n",
    "\n",
    "data=[trace]\n",
    "\n",
    "plotly.offline.plot(data, filename='labelled-heatmap')"
   ]
  }
 ],
 "metadata": {
  "kernelspec": {
   "display_name": "Python 3",
   "language": "python",
   "name": "python3"
  },
  "language_info": {
   "codemirror_mode": {
    "name": "ipython",
    "version": 3
   },
   "file_extension": ".py",
   "mimetype": "text/x-python",
   "name": "python",
   "nbconvert_exporter": "python",
   "pygments_lexer": "ipython3",
   "version": "3.6.3"
  }
 },
 "nbformat": 4,
 "nbformat_minor": 2
}
